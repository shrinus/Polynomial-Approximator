{
 "cells": [
  {
   "cell_type": "code",
   "execution_count": 20,
   "metadata": {},
   "outputs": [
    {
     "data": {
      "text/latex": [
       "$\\displaystyle \\left(1 - \\lambda\\right)^{2} \\left(\\lambda^{2} - 1.8 \\lambda + 0.8055\\right)$"
      ],
      "text/plain": [
       "(1 - \\lambda)**2*(\\lambda**2 - 1.8*\\lambda + 0.8055)"
      ]
     },
     "execution_count": 20,
     "metadata": {},
     "output_type": "execute_result"
    }
   ],
   "source": [
    "import sympy as smp\n",
    "l = smp.Symbol(\"\\lambda\")\n",
    "A = smp.Matrix([[0.95, 0.04, 0   , 0   ], \n",
    "                [0.05, 0.85, 0   , 0   ], \n",
    "                [0   , 0.1 , 1   , 0   ], \n",
    "                [0   , 0.01, 0   , 1   ]])\n",
    "M = A - l * smp.eye(4)\n",
    "e = M.det()\n",
    "e"
   ]
  }
 ],
 "metadata": {
  "kernelspec": {
   "display_name": "Python 3.9.12 ('base')",
   "language": "python",
   "name": "python3"
  },
  "language_info": {
   "codemirror_mode": {
    "name": "ipython",
    "version": 3
   },
   "file_extension": ".py",
   "mimetype": "text/x-python",
   "name": "python",
   "nbconvert_exporter": "python",
   "pygments_lexer": "ipython3",
   "version": "3.9.12"
  },
  "orig_nbformat": 4,
  "vscode": {
   "interpreter": {
    "hash": "5a1cd8f5ceb6abd9a115f870560f5bc8854bc3760d02f2df1b84cb3f6daf07b1"
   }
  }
 },
 "nbformat": 4,
 "nbformat_minor": 2
}
